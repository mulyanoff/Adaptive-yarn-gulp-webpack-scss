{
  "nbformat": 4,
  "nbformat_minor": 0,
  "metadata": {
    "colab": {
      "provenance": [],
      "authorship_tag": "ABX9TyOSb0qC1AQNfW3/++ojEay2",
      "include_colab_link": true
    },
    "kernelspec": {
      "name": "python3",
      "display_name": "Python 3"
    },
    "language_info": {
      "name": "python"
    }
  },
  "cells": [
    {
      "cell_type": "markdown",
      "metadata": {
        "id": "view-in-github",
        "colab_type": "text"
      },
      "source": [
        "<a href=\"https://colab.research.google.com/github/mulyanoff/Adaptive-yarn-gulp-webpack-scss/blob/main/Laba_surprise!!.ipynb\" target=\"_parent\"><img src=\"https://colab.research.google.com/assets/colab-badge.svg\" alt=\"Open In Colab\"/></a>"
      ]
    },
    {
      "cell_type": "code",
      "execution_count": null,
      "metadata": {
        "colab": {
          "base_uri": "https://localhost:8080/"
        },
        "id": "KzRsHnKijWaE",
        "outputId": "37b56f40-5950-4e97-f273-a8014e59db0c"
      },
      "outputs": [
        {
          "output_type": "stream",
          "name": "stdout",
          "text": [
            "Looking in indexes: https://pypi.org/simple, https://us-python.pkg.dev/colab-wheels/public/simple/\n",
            "Requirement already satisfied: scikit-surprise in /usr/local/lib/python3.8/dist-packages (1.1.3)\n",
            "Requirement already satisfied: scipy>=1.3.2 in /usr/local/lib/python3.8/dist-packages (from scikit-surprise) (1.7.3)\n",
            "Requirement already satisfied: joblib>=1.0.0 in /usr/local/lib/python3.8/dist-packages (from scikit-surprise) (1.2.0)\n",
            "Requirement already satisfied: numpy>=1.17.3 in /usr/local/lib/python3.8/dist-packages (from scikit-surprise) (1.21.6)\n"
          ]
        }
      ],
      "source": [
        "! pip install scikit-surprise"
      ]
    },
    {
      "cell_type": "code",
      "source": [
        "from surprise import KNNBasic\n",
        "from surprise import Dataset\n",
        "from surprise import Reader\n",
        "\n",
        "from collections import defaultdict\n",
        "from operator import itemgetter\n",
        "import heapq\n",
        "\n",
        "import os\n",
        "import csv\n",
        "\n",
        "# Загружаем Датасет из Movielab\n",
        "!wget http://files.grouplens.org/datasets/movielens/ml-latest-small.zip\n",
        "!unzip ml-latest-small.zip\n",
        "!ls"
      ],
      "metadata": {
        "colab": {
          "base_uri": "https://localhost:8080/"
        },
        "id": "YerqfI_mjcwo",
        "outputId": "1122ea48-9a54-4a14-afc6-8069e6c49053"
      },
      "execution_count": null,
      "outputs": [
        {
          "output_type": "stream",
          "name": "stdout",
          "text": [
            "--2022-12-16 06:11:16--  http://files.grouplens.org/datasets/movielens/ml-latest-small.zip\n",
            "Resolving files.grouplens.org (files.grouplens.org)... 128.101.65.152\n",
            "Connecting to files.grouplens.org (files.grouplens.org)|128.101.65.152|:80... connected.\n",
            "HTTP request sent, awaiting response... 200 OK\n",
            "Length: 978202 (955K) [application/zip]\n",
            "Saving to: ‘ml-latest-small.zip’\n",
            "\n",
            "ml-latest-small.zip 100%[===================>] 955.28K  1.53MB/s    in 0.6s    \n",
            "\n",
            "2022-12-16 06:11:17 (1.53 MB/s) - ‘ml-latest-small.zip’ saved [978202/978202]\n",
            "\n",
            "Archive:  ml-latest-small.zip\n",
            "   creating: ml-latest-small/\n",
            "  inflating: ml-latest-small/links.csv  \n",
            "  inflating: ml-latest-small/tags.csv  \n",
            "  inflating: ml-latest-small/ratings.csv  \n",
            "  inflating: ml-latest-small/README.txt  \n",
            "  inflating: ml-latest-small/movies.csv  \n",
            "ml-latest-small  ml-latest-small.zip  sample_data\n"
          ]
        }
      ]
    },
    {
      "cell_type": "code",
      "source": [
        "# Загружаем рейтинги фильмов и возвращаем набор данных..\n",
        "def load_dataset():\n",
        "    reader = Reader(line_format='user item rating timestamp', sep=',', skip_lines=1)\n",
        "    ratings_dataset = Dataset.load_from_file('ml-latest-small/ratings.csv', reader=reader)\n",
        "\n",
        "    #Находим название фильма с его идентификатором Movielens в качестве ключа\n",
        "    movieID_to_name = {}\n",
        "    with open('ml-latest-small/movies.csv', newline='', encoding='ISO-8859-1') as csvfile:\n",
        "            movie_reader = csv.reader(csvfile)\n",
        "            next(movie_reader)\n",
        "            for row in movie_reader:\n",
        "                movieID = int(row[0])\n",
        "                movie_name = row[1]\n",
        "                movieID_to_name[movieID] = movie_name\n",
        "    # Везвращаем набор данных и словарь поиска в массиве данных\n",
        "    return (ratings_dataset, movieID_to_name)\n",
        "\n",
        "dataset, movieID_to_name = load_dataset()\n",
        "\n",
        "# Создаем полный обучающий набор Surprise из набора данных\n",
        "trainset = dataset.build_full_trainset()"
      ],
      "metadata": {
        "id": "nfko4ZIDjvPQ"
      },
      "execution_count": null,
      "outputs": []
    },
    {
      "cell_type": "code",
      "source": [
        "similarity_matrix = KNNBasic(sim_options={\n",
        "        'name': 'cosine',\n",
        "        'user_based': False\n",
        "        })\\\n",
        "        .fit(trainset)\\\n",
        "        .compute_similarities()"
      ],
      "metadata": {
        "colab": {
          "base_uri": "https://localhost:8080/"
        },
        "id": "vhOAzU_5j2aJ",
        "outputId": "3eda09b6-bbe5-4453-975d-648274bdb9e7"
      },
      "execution_count": null,
      "outputs": [
        {
          "output_type": "stream",
          "name": "stdout",
          "text": [
            "Computing the cosine similarity matrix...\n",
            "Done computing similarity matrix.\n",
            "Computing the cosine similarity matrix...\n",
            "Done computing similarity matrix.\n"
          ]
        }
      ]
    },
    {
      "cell_type": "code",
      "source": [
        "# Выбираем случайный идентификатор пользователя, он должен быть числовой строкой.\n",
        "\n",
        "test_subject = '70'\n",
        "\n",
        "# Получаем 20 лучших элементов, оцененных пользователями\n",
        "k = 20"
      ],
      "metadata": {
        "id": "ZpkRDKnJkDjS"
      },
      "execution_count": null,
      "outputs": []
    },
    {
      "cell_type": "code",
      "source": [
        "# При использовании Surprise есть RAW и INNER ID.\n",
        "# Необработанные идентификаторы строки или числа\n",
        "# Преобразовываем RAW в INNER\n",
        "test_subject_iid = trainset.to_inner_uid(test_subject)\n",
        "\n",
        "# Получаем лучшие элемменты после оценки\n",
        "test_subject_ratings = trainset.ur[test_subject_iid]\n",
        "k_neighbors = heapq.nlargest(k, test_subject_ratings, key=lambda t: t[1])"
      ],
      "metadata": {
        "id": "To3fufBNkIRm"
      },
      "execution_count": null,
      "outputs": []
    },
    {
      "cell_type": "code",
      "source": [
        "# Создаем новую запись с ключом к Датасету\n",
        "candidates = defaultdict(float)\n",
        "\n",
        "for itemID, rating in k_neighbors:\n",
        "    try:\n",
        "      similaritities = similarity_matrix[itemID]\n",
        "      for innerID, score in enumerate(similaritities):\n",
        "          candidates[innerID] += score * (rating / 5.0)\n",
        "    except:\n",
        "      continue"
      ],
      "metadata": {
        "id": "8X6p7ZnPkjRG"
      },
      "execution_count": null,
      "outputs": []
    },
    {
      "cell_type": "code",
      "source": [],
      "metadata": {
        "id": "vQKuxHuNlOrA"
      },
      "execution_count": null,
      "outputs": []
    },
    {
      "cell_type": "code",
      "metadata": {
        "id": "M2JokYeyIK8x"
      },
      "source": [
        "# Создаем утилиту для дальнейшего использования\n",
        "def getMovieName(movieID):\n",
        "  if int(movieID) in movieID_to_name:\n",
        "    return movieID_to_name[int(movieID)]\n",
        "  else:\n",
        "      return \"\""
      ],
      "execution_count": null,
      "outputs": []
    },
    {
      "cell_type": "code",
      "source": [
        "# Создаем словарь фильмов, которые смотрел пользователь\n",
        "watched = {}\n",
        "for itemID, rating in trainset.ur[test_subject_iid]:\n",
        "  watched[itemID] = 1\n",
        "\n",
        "\n",
        "# Добавляем элементы в список рекомендаций пользователя\n",
        "# Если они похожи на их любимые фильмы,\n",
        "# И еще не смотрели\n",
        "recommendations = []\n",
        "\n",
        "position = 0\n",
        "for itemID, rating_sum in sorted(candidates.items(), key=itemgetter(1), reverse=True):\n",
        "  if not itemID in watched:\n",
        "    recommendations.append(getMovieName(trainset.to_raw_iid(itemID)))\n",
        "    position += 1\n",
        "    if (position > 10): break # Нам нужно только топ 10\n",
        "\n",
        "for rec in recommendations:\n",
        "  print(\"Movie: \", rec)"
      ],
      "metadata": {
        "colab": {
          "base_uri": "https://localhost:8080/"
        },
        "id": "fpuQMKrZlgDw",
        "outputId": "07db3ed9-5f64-4311-9bcb-f8537de4a1a2"
      },
      "execution_count": null,
      "outputs": [
        {
          "output_type": "stream",
          "name": "stdout",
          "text": [
            "Movie:  Bride & Prejudice (2004)\n",
            "Movie:  Quo Vadis (1951)\n",
            "Movie:  Safety Last! (1923)\n",
            "Movie:  Infamous (2006)\n",
            "Movie:  Oliver Twist (1948)\n",
            "Movie:  Return of the Secaucus 7 (1980)\n",
            "Movie:  Dark Days (2000)\n",
            "Movie:  Charlotte's Web (2006)\n",
            "Movie:  Only Angels Have Wings (1939)\n",
            "Movie:  Little Women (1949)\n",
            "Movie:  Mr. Deeds Goes to Town (1936)\n"
          ]
        }
      ]
    },
    {
      "cell_type": "code",
      "source": [],
      "metadata": {
        "id": "XN3wlIxRlpVI"
      },
      "execution_count": null,
      "outputs": []
    }
  ]
}